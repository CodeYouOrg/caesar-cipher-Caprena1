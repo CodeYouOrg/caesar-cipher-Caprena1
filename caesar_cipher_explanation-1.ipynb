{
 "cells": [
  {
   "cell_type": "code",
   "execution_count": 12,
   "metadata": {},
   "outputs": [
    {
     "name": "stdout",
     "output_type": "stream",
     "text": [
      "fghijklmnopqrstuvwxyz\n",
      "fghijklmnopqrstuvwxyzabcde\n",
      "abcdefghijklmnopqrstuvwxyz\n",
      "{97: 102, 98: 103, 99: 104, 100: 105, 101: 106, 102: 107, 103: 108, 104: 109, 105: 110, 106: 111, 107: 112, 108: 113, 109: 114, 110: 115, 111: 116, 112: 117, 113: 118, 114: 119, 115: 120, 116: 121, 117: 122, 118: 97, 119: 98, 120: 99, 121: 100, 122: 101}\n",
      "udymts nx kzs!\n"
     ]
    }
   ],
   "source": [
    "import string\n",
    "\n",
    "plain_text = \"python is fun!\"\n",
    "shift = 5\n",
    "\n",
    "alphabet_list = string.ascii_lowercase #this is a method that does the coversion of (ord)= characters into numbers for you\n",
    "print(alphabet_list[shift:])\n",
    "\n",
    "shifted = alphabet_list[shift:] + alphabet_list[:shift] #shift: (print everything after 5 over), :shift (print everything from the beginning up to 5)\n",
    "print(shifted)\n",
    "print(alphabet_list)\n",
    "\n",
    "table = str.maketrans(alphabet_list, shifted) #this provides the dictionary of the (ord)-plus what it is shifted to\n",
    "print(table)\n",
    "\n",
    "encrypted = plain_text.translate(table) #this says take the sentence, take the translated (ord) and put it into letters shifted\n",
    "print(encrypted)\n",
    "# print(encrypted)\n"
   ]
  }
 ],
 "metadata": {
  "kernelspec": {
   "display_name": "Python 3",
   "language": "python",
   "name": "python3"
  },
  "language_info": {
   "codemirror_mode": {
    "name": "ipython",
    "version": 3
   },
   "file_extension": ".py",
   "mimetype": "text/x-python",
   "name": "python",
   "nbconvert_exporter": "python",
   "pygments_lexer": "ipython3",
   "version": "3.11.1"
  }
 },
 "nbformat": 4,
 "nbformat_minor": 2
}
